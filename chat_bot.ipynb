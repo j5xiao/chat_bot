{
 "cells": [
  {
   "cell_type": "code",
   "execution_count": 1,
   "id": "f32aeb72",
   "metadata": {
    "scrolled": false
   },
   "outputs": [
    {
     "name": "stderr",
     "output_type": "stream",
     "text": [
      "/Users/xiaojinxin/anaconda3/lib/python3.10/site-packages/pandas/core/arrays/masked.py:61: UserWarning: Pandas requires version '1.3.6' or newer of 'bottleneck' (version '1.3.5' currently installed).\n",
      "  from pandas.core import (\n"
     ]
    },
    {
     "name": "stdout",
     "output_type": "stream",
     "text": [
      "Loaded 5 documents.\n",
      "Vector index built successfully.\n",
      "\n",
      "Enter your question (or type 'exit' to quit): quit\n",
      "Goodbye!\n"
     ]
    }
   ],
   "source": [
    "import requests\n",
    "from typing import List\n",
    "from llama_index.core import VectorStoreIndex, SimpleDirectoryReader\n",
    "from llama_index.core.base.embeddings.base import BaseEmbedding\n",
    "\n",
    "EMBEDDING_MODEL = \"sentence-transformers/all-MiniLM-L6-v2\"\n",
    "HF_API_TOKEN = \"hf_...\"\n",
    "\n",
    "HEADERS = {\n",
    "    \"Authorization\": f\"Bearer {HF_API_TOKEN}\"\n",
    "}\n",
    "\n",
    "class HuggingFaceEmbeddingAPI(BaseEmbedding):\n",
    "    def _get_text_embedding(self, text: str) -> List[float]:\n",
    "        url = \"https://api-inference.huggingface.co/models/sentence-transformers/all-MiniLM-L6-v2?wait_for_model=true\"\n",
    "        payload = {\n",
    "            \"inputs\": {\n",
    "                \"source_sentence\": text,\n",
    "                \"sentences\": [text]\n",
    "            }\n",
    "        }\n",
    "        response = requests.post(url, headers=HEADERS, json=payload)\n",
    "        response.raise_for_status()\n",
    "        embeddings = response.json()\n",
    "        return embeddings\n",
    "\n",
    "    def _get_text_embeddings(self, texts: List[str]) -> List[List[float]]:\n",
    "        embeddings = []\n",
    "        for text in texts:\n",
    "            embedding = self._get_text_embedding(text)\n",
    "            embeddings.append(embedding)\n",
    "        return embeddings\n",
    "\n",
    "    def _get_query_embedding(self, query: str) -> List[float]:\n",
    "        return self._get_text_embedding(query)\n",
    "\n",
    "    async def _aget_query_embedding(self, query: str) -> List[float]:\n",
    "        return self._get_query_embedding(query)\n",
    "\n",
    "def main():\n",
    "    documents = SimpleDirectoryReader(\"data\").load_data()\n",
    "    print(f\"Loaded {len(documents)} documents.\")\n",
    "\n",
    "    embeddings = HuggingFaceEmbeddingAPI()\n",
    "\n",
    "    index = VectorStoreIndex.from_documents(documents, embed_model=embeddings)\n",
    "    print(\"Vector index built successfully.\")\n",
    "\n",
    "    from llama_index.llms.huggingface_api import HuggingFaceInferenceAPI\n",
    "\n",
    "    llm = HuggingFaceInferenceAPI(\n",
    "        model_name=\"distilgpt2\",  \n",
    "        api_key=HF_API_TOKEN,\n",
    "        task=\"text-generation\", \n",
    "        max_new_tokens=256,\n",
    "    )\n",
    "\n",
    "    from llama_index.core import Settings\n",
    "    Settings.llm = llm\n",
    "\n",
    "    \n",
    "    query_engine = index.as_query_engine(embed_model=embeddings, llm=None)\n",
    "\n",
    "\n",
    "    while True:\n",
    "        query = input(\"\\nEnter your question (or type 'exit' to quit): \")\n",
    "        if query.strip().lower() in (\"exit\", \"quit\"):\n",
    "            print(\"Goodbye!\")\n",
    "            break\n",
    "        response = query_engine.query(query)\n",
    "        print(f\"\\nAnswer: {response.response}\")\n",
    "\n",
    "if __name__ == \"__main__\":\n",
    "    main()\n"
   ]
  },
  {
   "cell_type": "code",
   "execution_count": null,
   "id": "66ccb307",
   "metadata": {},
   "outputs": [],
   "source": []
  }
 ],
 "metadata": {
  "kernelspec": {
   "display_name": "Python 3 (ipykernel)",
   "language": "python",
   "name": "python3"
  },
  "language_info": {
   "codemirror_mode": {
    "name": "ipython",
    "version": 3
   },
   "file_extension": ".py",
   "mimetype": "text/x-python",
   "name": "python",
   "nbconvert_exporter": "python",
   "pygments_lexer": "ipython3",
   "version": "3.10.9"
  }
 },
 "nbformat": 4,
 "nbformat_minor": 5
}
